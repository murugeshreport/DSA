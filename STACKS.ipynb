{
 "cells": [
  {
   "cell_type": "markdown",
   "id": "2da87d65",
   "metadata": {},
   "source": [
    "# impuliments of Stacks"
   ]
  },
  {
   "cell_type": "code",
   "execution_count": 2,
   "id": "20d0cf9f",
   "metadata": {},
   "outputs": [],
   "source": [
    "# stack is last in remove in first"
   ]
  },
  {
   "cell_type": "code",
   "execution_count": null,
   "id": "a98ec1c7",
   "metadata": {},
   "outputs": [],
   "source": []
  },
  {
   "cell_type": "code",
   "execution_count": 12,
   "id": "e295c240",
   "metadata": {},
   "outputs": [],
   "source": [
    "#create stack list\n",
    "stack = []"
   ]
  },
  {
   "cell_type": "code",
   "execution_count": 13,
   "id": "96727733",
   "metadata": {},
   "outputs": [],
   "source": [
    "#appnd values\n",
    "stack.append(10)\n",
    "stack.append(20)\n",
    "stack.append(30)"
   ]
  },
  {
   "cell_type": "code",
   "execution_count": 14,
   "id": "bc48d860",
   "metadata": {},
   "outputs": [
    {
     "data": {
      "text/plain": [
       "30"
      ]
     },
     "execution_count": 14,
     "metadata": {},
     "output_type": "execute_result"
    }
   ],
   "source": [
    "#remove one value  last in first\n",
    "stack.pop()"
   ]
  },
  {
   "cell_type": "code",
   "execution_count": 15,
   "id": "22c6b89d",
   "metadata": {},
   "outputs": [
    {
     "data": {
      "text/plain": [
       "20"
      ]
     },
     "execution_count": 15,
     "metadata": {},
     "output_type": "execute_result"
    }
   ],
   "source": [
    "stack.pop()"
   ]
  },
  {
   "cell_type": "code",
   "execution_count": 16,
   "id": "117e6d9d",
   "metadata": {},
   "outputs": [],
   "source": [
    "#create linked list using stack"
   ]
  },
  {
   "cell_type": "code",
   "execution_count": 83,
   "id": "0087556c",
   "metadata": {},
   "outputs": [],
   "source": [
    "class node:\n",
    "    def __init__(self,data):\n",
    "        self.data = data\n",
    "        self.ref = None\n",
    "        \n",
    "class Stack:\n",
    "    def __init__(self):\n",
    "        self.head = None\n",
    "        \n",
    "        \n",
    "    def stack_append(self,data):\n",
    "        if self.head is None:\n",
    "            newnode = node(data)\n",
    "            self.head = newnode\n",
    "        else:\n",
    "            newnode = node(data)\n",
    "            newnode.ref = self.head\n",
    "            self.head = newnode\n",
    "            \n",
    "            \n",
    "    def stack_print(self):\n",
    "        if self.head is None:\n",
    "            print('stack is empty')\n",
    "        else:\n",
    "            n = self.head\n",
    "            while n is not None:\n",
    "                print(n.data,end = '-->')\n",
    "\n",
    "                n = n.ref\n",
    "        \n",
    "    \n",
    "    def stack_pop(self):\n",
    "        if self.head is None:\n",
    "            print('stack is empty')\n",
    "        else:\n",
    "            print(self.head.data)\n",
    "            self.head = self.head.ref\n",
    "\n",
    "     \n",
    "    def stack_size(self):\n",
    "        if self.head is None:\n",
    "            print('stack is empty')\n",
    "        else:\n",
    "            size = 0\n",
    "            n = self.head\n",
    "            while n is not None:\n",
    "                size = size+1\n",
    "                n = n.ref\n",
    "                \n",
    "            print(size)"
   ]
  },
  {
   "cell_type": "code",
   "execution_count": 91,
   "id": "5d734bd2",
   "metadata": {},
   "outputs": [],
   "source": [
    "stack = Stack()"
   ]
  },
  {
   "cell_type": "code",
   "execution_count": 92,
   "id": "7a121da2",
   "metadata": {},
   "outputs": [],
   "source": [
    "stack.stack_append(10)\n",
    "stack.stack_append(20)\n",
    "stack.stack_append(30)"
   ]
  },
  {
   "cell_type": "code",
   "execution_count": 86,
   "id": "340046fd",
   "metadata": {},
   "outputs": [
    {
     "name": "stdout",
     "output_type": "stream",
     "text": [
      "30-->20-->10-->"
     ]
    }
   ],
   "source": [
    "stack.stack_print()"
   ]
  },
  {
   "cell_type": "code",
   "execution_count": 94,
   "id": "c81168ac",
   "metadata": {},
   "outputs": [
    {
     "name": "stdout",
     "output_type": "stream",
     "text": [
      "30\n"
     ]
    }
   ],
   "source": [
    "stack.stack_pop()"
   ]
  },
  {
   "cell_type": "code",
   "execution_count": 95,
   "id": "e2479469",
   "metadata": {},
   "outputs": [
    {
     "name": "stdout",
     "output_type": "stream",
     "text": [
      "2\n"
     ]
    }
   ],
   "source": [
    "stack.stack_size()"
   ]
  },
  {
   "cell_type": "code",
   "execution_count": null,
   "id": "dd1b2627",
   "metadata": {},
   "outputs": [],
   "source": []
  },
  {
   "cell_type": "code",
   "execution_count": null,
   "id": "2a60fbff",
   "metadata": {},
   "outputs": [],
   "source": []
  }
 ],
 "metadata": {
  "kernelspec": {
   "display_name": "Python 3 (ipykernel)",
   "language": "python",
   "name": "python3"
  },
  "language_info": {
   "codemirror_mode": {
    "name": "ipython",
    "version": 3
   },
   "file_extension": ".py",
   "mimetype": "text/x-python",
   "name": "python",
   "nbconvert_exporter": "python",
   "pygments_lexer": "ipython3",
   "version": "3.8.8"
  }
 },
 "nbformat": 4,
 "nbformat_minor": 5
}
