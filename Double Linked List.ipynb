{
 "cells": [
  {
   "cell_type": "markdown",
   "id": "62a08872",
   "metadata": {},
   "source": [
    "# Double Linked List"
   ]
  },
  {
   "cell_type": "code",
   "execution_count": 1,
   "id": "02d6c1ad",
   "metadata": {},
   "outputs": [
    {
     "name": "stderr",
     "output_type": "stream",
     "text": [
      "C:\\Users\\hp\\anaconda3\\lib\\site-packages\\numpy\\_distributor_init.py:30: UserWarning: loaded more than 1 DLL from .libs:\n",
      "C:\\Users\\hp\\anaconda3\\lib\\site-packages\\numpy\\.libs\\libopenblas.PYQHXLVVQ7VESDPUVUADXEVJOBGHJPAY.gfortran-win_amd64.dll\n",
      "C:\\Users\\hp\\anaconda3\\lib\\site-packages\\numpy\\.libs\\libopenblas.WCDJNK7YVMPZQ2ME2ZZHJJRJ3JIKNDB7.gfortran-win_amd64.dll\n",
      "  warnings.warn(\"loaded more than 1 DLL from .libs:\\n%s\" %\n"
     ]
    }
   ],
   "source": [
    "import pandas as pd\n",
    "import numpy as np"
   ]
  },
  {
   "cell_type": "code",
   "execution_count": 457,
   "id": "513dacb9",
   "metadata": {},
   "outputs": [],
   "source": [
    "class node:\n",
    "    def __init__(self,data):\n",
    "        self.data = data\n",
    "        self.prev = None\n",
    "        self.next = None\n",
    "        \n",
    "class Linkedlist:\n",
    "    def __init__(self):\n",
    "        self.head = None\n",
    "    #========================================================================================    \n",
    "    def printLinkedlistforwad(self):\n",
    "        if self.head is None:\n",
    "            print('Double Linnked List is empty')\n",
    "        n = self.head\n",
    "        while n is not None:\n",
    "            print(n.data,end = '-->')\n",
    "            n = n.next\n",
    "    #=========================================================================================\n",
    "    def printlinkedlistbacward(self):\n",
    "        if self.head is None:\n",
    "            print('Double Linnked List is empty')\n",
    "        n = self.head\n",
    "        while n.next is not None:\n",
    "            n = n.next\n",
    "        while n is not None:\n",
    "            print(n.data,end = '<--')\n",
    "            n = n.prev\n",
    "        \n",
    "    \n",
    "    #=====================================================================================            \n",
    "    def frond_add(self,new):\n",
    "        newnode = node(new)\n",
    "        if self.head is None:\n",
    "            self.head = newnode\n",
    "        else:\n",
    "            newnode.next = self.head\n",
    "            self.head.prev = newnode\n",
    "            self.head = newnode\n",
    "    #============================================================================================\n",
    "    def add_end(self,new):\n",
    "        newnode = node(new)\n",
    "            \n",
    "        n = self.head\n",
    "        while n.next is not None:\n",
    "            n = n.next\n",
    "        n.next = newnode\n",
    "        newnode.prev = n\n",
    "    #==========================================================================================        \n",
    "    def add_before(self,x,new):\n",
    "        newnode = node(new)\n",
    "        n = self.head\n",
    "        while n is not None:\n",
    "            if n.data == x:\n",
    "                break\n",
    "            n = n.next\n",
    "        if n is None:\n",
    "            print('not node')\n",
    "        else:\n",
    "            newnode = node(new)\n",
    "            newnode.Pref = n.prev\n",
    "            newnode.next = n\n",
    "            if n.prev is not None:\n",
    "                n.prev.next = newnode\n",
    "            else:\n",
    "                self.head = newnode\n",
    "            n.prev = newnode\n",
    "    #===========================================================================================================          \n",
    "    def add_ofter(self,x,new):\n",
    "        newnode = node(new)\n",
    "        n = self.head\n",
    "        while n is not None:\n",
    "            if n.data == x:\n",
    "                break\n",
    "            n = n.next\n",
    "        if n is None:\n",
    "            print('not node')\n",
    "        else:\n",
    "            newnode.next = n.next\n",
    "            newnode.prev = n\n",
    "            if n.next is not None:\n",
    "                n.next.prev = newnode\n",
    "            n.next = newnode\n",
    "     #======================================================================================       \n",
    "            \n",
    "    def front_delete(self):\n",
    "        if self.head is None:\n",
    "            print('empty')\n",
    "        else:\n",
    "            self.head = self.head.next\n",
    "            self.head.prev = None\n",
    "        \n",
    "    #=====================================================================================\n",
    "    \n",
    "    def delete_end(self):\n",
    "        if self.head is None:\n",
    "            print('list is empty')\n",
    "        else:\n",
    "            n = self.head\n",
    "            while n.next.next is not None:\n",
    "                n = n.next\n",
    "            n.next = None\n",
    "            \n",
    "    #=================================================================================\n",
    "    \n",
    "    def delete_value(self,x):\n",
    "        if self.head is None:\n",
    "            print('llist is empty')\n",
    "        else:\n",
    "            n = self.head\n",
    "            while n is not None:\n",
    "                if n.data == x:\n",
    "                    break\n",
    "                n = n.next\n",
    "            n.prev.next = n.next\n",
    "            n.next.prev = n.prev\n",
    "            \n",
    "    #========================================================================\n",
    "    def find_size(self):\n",
    "        size =0\n",
    "        n = self.head\n",
    "        while n is not None:\n",
    "            size = size+1\n",
    "            n = n.next\n",
    "        print(size)\n",
    "    \n",
    "    #+============================================================================\n",
    "    def find_index(self,x):\n",
    "        index = 0\n",
    "        n = self.head\n",
    "        while n is not None:\n",
    "            index = index+1\n",
    "            if n.data == x:\n",
    "                break\n",
    "    \n",
    "            n = n.next\n",
    "        print(index)\n",
    "    \n",
    "    \n",
    "    \n",
    "    \n",
    "    \n",
    "    \n",
    "    \n",
    "    \n",
    "    "
   ]
  },
  {
   "cell_type": "code",
   "execution_count": 458,
   "id": "36d3f8d3",
   "metadata": {},
   "outputs": [],
   "source": [
    "llist = Linkedlist()"
   ]
  },
  {
   "cell_type": "code",
   "execution_count": 459,
   "id": "931aa26f",
   "metadata": {},
   "outputs": [],
   "source": [
    "llist.frond_add(10)\n",
    "llist.frond_add(20)"
   ]
  },
  {
   "cell_type": "code",
   "execution_count": 460,
   "id": "3a6bfd4b",
   "metadata": {},
   "outputs": [
    {
     "name": "stdout",
     "output_type": "stream",
     "text": [
      "20-->10-->"
     ]
    }
   ],
   "source": [
    "llist.printLinkedlistforwad()"
   ]
  },
  {
   "cell_type": "code",
   "execution_count": 461,
   "id": "3f44a2ff",
   "metadata": {},
   "outputs": [
    {
     "name": "stdout",
     "output_type": "stream",
     "text": [
      "10<--20<--"
     ]
    }
   ],
   "source": [
    "llist.printlinkedlistbacward()"
   ]
  },
  {
   "cell_type": "code",
   "execution_count": 462,
   "id": "899de059",
   "metadata": {},
   "outputs": [],
   "source": [
    "llist.add_end(40)"
   ]
  },
  {
   "cell_type": "code",
   "execution_count": 463,
   "id": "90bf7701",
   "metadata": {},
   "outputs": [
    {
     "name": "stdout",
     "output_type": "stream",
     "text": [
      "20-->10-->40-->"
     ]
    }
   ],
   "source": [
    "llist.printLinkedlistforwad()"
   ]
  },
  {
   "cell_type": "code",
   "execution_count": 464,
   "id": "bb2176fc",
   "metadata": {},
   "outputs": [
    {
     "name": "stdout",
     "output_type": "stream",
     "text": [
      "40<--10<--20<--"
     ]
    }
   ],
   "source": [
    "llist.printlinkedlistbacward()"
   ]
  },
  {
   "cell_type": "code",
   "execution_count": 465,
   "id": "b3c3d98d",
   "metadata": {},
   "outputs": [],
   "source": [
    "llist.add_before(10,15)"
   ]
  },
  {
   "cell_type": "code",
   "execution_count": 466,
   "id": "6996d37e",
   "metadata": {},
   "outputs": [
    {
     "name": "stdout",
     "output_type": "stream",
     "text": [
      "20-->15-->10-->40-->"
     ]
    }
   ],
   "source": [
    "llist.printLinkedlistforwad()"
   ]
  },
  {
   "cell_type": "code",
   "execution_count": 467,
   "id": "aadf5da8",
   "metadata": {},
   "outputs": [
    {
     "name": "stdout",
     "output_type": "stream",
     "text": [
      "40<--10<--15<--"
     ]
    }
   ],
   "source": [
    "llist.printlinkedlistbacward()"
   ]
  },
  {
   "cell_type": "code",
   "execution_count": 468,
   "id": "dcc72555",
   "metadata": {},
   "outputs": [],
   "source": [
    "llist.add_ofter(20,25)"
   ]
  },
  {
   "cell_type": "code",
   "execution_count": 469,
   "id": "3377bf81",
   "metadata": {},
   "outputs": [
    {
     "name": "stdout",
     "output_type": "stream",
     "text": [
      "20-->25-->15-->10-->40-->"
     ]
    }
   ],
   "source": [
    "llist.printLinkedlistforwad()"
   ]
  },
  {
   "cell_type": "code",
   "execution_count": 470,
   "id": "24727266",
   "metadata": {},
   "outputs": [
    {
     "name": "stdout",
     "output_type": "stream",
     "text": [
      "40<--10<--15<--25<--20<--"
     ]
    }
   ],
   "source": [
    "llist.printlinkedlistbacward()"
   ]
  },
  {
   "cell_type": "code",
   "execution_count": 471,
   "id": "2387eaae",
   "metadata": {},
   "outputs": [],
   "source": [
    "llist.front_delete()"
   ]
  },
  {
   "cell_type": "code",
   "execution_count": 472,
   "id": "496479f0",
   "metadata": {},
   "outputs": [
    {
     "name": "stdout",
     "output_type": "stream",
     "text": [
      "25-->15-->10-->40-->"
     ]
    }
   ],
   "source": [
    "llist.printLinkedlistforwad()"
   ]
  },
  {
   "cell_type": "code",
   "execution_count": 473,
   "id": "89a1c2c3",
   "metadata": {},
   "outputs": [],
   "source": [
    "llist.delete_end()"
   ]
  },
  {
   "cell_type": "code",
   "execution_count": 474,
   "id": "cc8f6ce2",
   "metadata": {},
   "outputs": [
    {
     "name": "stdout",
     "output_type": "stream",
     "text": [
      "25-->15-->10-->"
     ]
    }
   ],
   "source": [
    "llist.printLinkedlistforwad()"
   ]
  },
  {
   "cell_type": "code",
   "execution_count": 475,
   "id": "d17bbae8",
   "metadata": {},
   "outputs": [],
   "source": [
    "llist.delete_value(15)"
   ]
  },
  {
   "cell_type": "code",
   "execution_count": 476,
   "id": "8c6fd31e",
   "metadata": {},
   "outputs": [
    {
     "name": "stdout",
     "output_type": "stream",
     "text": [
      "25-->10-->"
     ]
    }
   ],
   "source": [
    "llist.printLinkedlistforwad()"
   ]
  },
  {
   "cell_type": "code",
   "execution_count": 477,
   "id": "2fcf8caf",
   "metadata": {},
   "outputs": [
    {
     "name": "stdout",
     "output_type": "stream",
     "text": [
      "2\n"
     ]
    }
   ],
   "source": [
    "llist.find_size()"
   ]
  },
  {
   "cell_type": "code",
   "execution_count": 480,
   "id": "5dda1917",
   "metadata": {},
   "outputs": [
    {
     "name": "stdout",
     "output_type": "stream",
     "text": [
      "2\n"
     ]
    }
   ],
   "source": [
    "llist.find_index(10)"
   ]
  },
  {
   "cell_type": "code",
   "execution_count": null,
   "id": "bcd78793",
   "metadata": {},
   "outputs": [],
   "source": []
  }
 ],
 "metadata": {
  "kernelspec": {
   "display_name": "Python 3 (ipykernel)",
   "language": "python",
   "name": "python3"
  },
  "language_info": {
   "codemirror_mode": {
    "name": "ipython",
    "version": 3
   },
   "file_extension": ".py",
   "mimetype": "text/x-python",
   "name": "python",
   "nbconvert_exporter": "python",
   "pygments_lexer": "ipython3",
   "version": "3.8.8"
  }
 },
 "nbformat": 4,
 "nbformat_minor": 5
}
