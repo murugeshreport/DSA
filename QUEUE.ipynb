{
 "cells": [
  {
   "cell_type": "code",
   "execution_count": 1,
   "id": "dd44488e",
   "metadata": {},
   "outputs": [],
   "source": [
    "#Impliment of queue"
   ]
  },
  {
   "cell_type": "code",
   "execution_count": 2,
   "id": "e35e2048",
   "metadata": {},
   "outputs": [],
   "source": [
    "# first in first out"
   ]
  },
  {
   "cell_type": "code",
   "execution_count": 3,
   "id": "22e478fc",
   "metadata": {},
   "outputs": [],
   "source": [
    "import collections"
   ]
  },
  {
   "cell_type": "code",
   "execution_count": 16,
   "id": "18c349dd",
   "metadata": {},
   "outputs": [],
   "source": [
    "# initializing deque\n",
    "de = collections.deque()"
   ]
  },
  {
   "cell_type": "code",
   "execution_count": 17,
   "id": "39b1e77d",
   "metadata": {},
   "outputs": [
    {
     "data": {
      "text/plain": [
       "deque([])"
      ]
     },
     "execution_count": 17,
     "metadata": {},
     "output_type": "execute_result"
    }
   ],
   "source": [
    "de"
   ]
  },
  {
   "cell_type": "code",
   "execution_count": 18,
   "id": "66f9d5cb",
   "metadata": {},
   "outputs": [],
   "source": [
    "de.appendleft(10)\n",
    "de.appendleft(20)\n",
    "de.appendleft(30)"
   ]
  },
  {
   "cell_type": "code",
   "execution_count": 19,
   "id": "00518443",
   "metadata": {},
   "outputs": [
    {
     "data": {
      "text/plain": [
       "deque([30, 20, 10])"
      ]
     },
     "execution_count": 19,
     "metadata": {},
     "output_type": "execute_result"
    }
   ],
   "source": [
    "de"
   ]
  },
  {
   "cell_type": "code",
   "execution_count": 20,
   "id": "79141729",
   "metadata": {},
   "outputs": [],
   "source": [
    "#remove first in first out"
   ]
  },
  {
   "cell_type": "code",
   "execution_count": 21,
   "id": "124a4d19",
   "metadata": {},
   "outputs": [
    {
     "data": {
      "text/plain": [
       "10"
      ]
     },
     "execution_count": 21,
     "metadata": {},
     "output_type": "execute_result"
    }
   ],
   "source": [
    "de.pop()"
   ]
  },
  {
   "cell_type": "code",
   "execution_count": 22,
   "id": "ba62e084",
   "metadata": {},
   "outputs": [
    {
     "data": {
      "text/plain": [
       "20"
      ]
     },
     "execution_count": 22,
     "metadata": {},
     "output_type": "execute_result"
    }
   ],
   "source": [
    "de.pop()"
   ]
  },
  {
   "cell_type": "code",
   "execution_count": 23,
   "id": "c9bdc00a",
   "metadata": {},
   "outputs": [],
   "source": [
    "#impuliments of linked list"
   ]
  },
  {
   "cell_type": "code",
   "execution_count": 255,
   "id": "7db20937",
   "metadata": {},
   "outputs": [],
   "source": [
    "class node:\n",
    "    def __init__(self,data):\n",
    "        self.data = data\n",
    "        self.ref = None\n",
    "\n",
    "class queue:\n",
    "    def __init__(self):\n",
    "        self.head =  None\n",
    "        \n",
    "        \n",
    "    def push(self,data):\n",
    "        newnode = node(data)\n",
    "        if self.head is None:\n",
    "            self.head = newnode\n",
    "        else:\n",
    "            newnode.ref = self.head\n",
    "            self.head = newnode\n",
    "            \n",
    "    \n",
    "    def printq(self):\n",
    "        if self.head is None:\n",
    "            print('q is empty')\n",
    "        else:\n",
    "            n = self.head\n",
    "            while n is not None:\n",
    "                print(n.data,end = '-->')\n",
    "                n = n.ref\n",
    "                  \n",
    "                  \n",
    "    def pop(self):\n",
    "        n = self.head\n",
    "        while n.ref.ref is not None:\n",
    "            n = n.ref\n",
    "        n.ref = None\n",
    "            \n",
    "    \n",
    "    def getsize(self):\n",
    "        count = 0\n",
    "        temp = self.head\n",
    "        while temp is not None:\n",
    "            count = count+1\n",
    "            temp = temp.ref\n",
    "        return count\n",
    "      \n",
    " \n",
    "            \n",
    "            \n",
    "  \n",
    "                  \n",
    "        \n",
    "        \n",
    "        \n",
    "        \n",
    "        "
   ]
  },
  {
   "cell_type": "code",
   "execution_count": 256,
   "id": "ee407055",
   "metadata": {},
   "outputs": [],
   "source": [
    "q = queue()"
   ]
  },
  {
   "cell_type": "code",
   "execution_count": 257,
   "id": "5ab4c722",
   "metadata": {},
   "outputs": [
    {
     "data": {
      "text/plain": [
       "<__main__.queue at 0x16b44d821c0>"
      ]
     },
     "execution_count": 257,
     "metadata": {},
     "output_type": "execute_result"
    }
   ],
   "source": [
    "q"
   ]
  },
  {
   "cell_type": "code",
   "execution_count": 258,
   "id": "a11ba9c2",
   "metadata": {},
   "outputs": [
    {
     "name": "stdout",
     "output_type": "stream",
     "text": [
      "q is empty\n"
     ]
    }
   ],
   "source": [
    "q. printq()"
   ]
  },
  {
   "cell_type": "code",
   "execution_count": 259,
   "id": "f4cfb400",
   "metadata": {},
   "outputs": [],
   "source": [
    "q.push(10)"
   ]
  },
  {
   "cell_type": "code",
   "execution_count": 260,
   "id": "f52d3b1f",
   "metadata": {},
   "outputs": [],
   "source": [
    "q.push(20)"
   ]
  },
  {
   "cell_type": "code",
   "execution_count": 261,
   "id": "a726e1ed",
   "metadata": {},
   "outputs": [],
   "source": [
    "q.push(30)"
   ]
  },
  {
   "cell_type": "code",
   "execution_count": 262,
   "id": "fd2dc2ac",
   "metadata": {},
   "outputs": [
    {
     "name": "stdout",
     "output_type": "stream",
     "text": [
      "30-->20-->10-->"
     ]
    }
   ],
   "source": [
    "q. printq()"
   ]
  },
  {
   "cell_type": "code",
   "execution_count": 263,
   "id": "bef45cff",
   "metadata": {},
   "outputs": [],
   "source": [
    "q.pop()"
   ]
  },
  {
   "cell_type": "code",
   "execution_count": 264,
   "id": "fca350a7",
   "metadata": {},
   "outputs": [
    {
     "name": "stdout",
     "output_type": "stream",
     "text": [
      "30-->20-->"
     ]
    }
   ],
   "source": [
    "q. printq()"
   ]
  },
  {
   "cell_type": "code",
   "execution_count": 265,
   "id": "249aff57",
   "metadata": {},
   "outputs": [
    {
     "data": {
      "text/plain": [
       "2"
      ]
     },
     "execution_count": 265,
     "metadata": {},
     "output_type": "execute_result"
    }
   ],
   "source": [
    "q.getsize()"
   ]
  },
  {
   "cell_type": "code",
   "execution_count": null,
   "id": "5261b9f2",
   "metadata": {},
   "outputs": [],
   "source": []
  },
  {
   "cell_type": "code",
   "execution_count": null,
   "id": "1598154b",
   "metadata": {},
   "outputs": [],
   "source": []
  }
 ],
 "metadata": {
  "kernelspec": {
   "display_name": "Python 3 (ipykernel)",
   "language": "python",
   "name": "python3"
  },
  "language_info": {
   "codemirror_mode": {
    "name": "ipython",
    "version": 3
   },
   "file_extension": ".py",
   "mimetype": "text/x-python",
   "name": "python",
   "nbconvert_exporter": "python",
   "pygments_lexer": "ipython3",
   "version": "3.8.8"
  }
 },
 "nbformat": 4,
 "nbformat_minor": 5
}
