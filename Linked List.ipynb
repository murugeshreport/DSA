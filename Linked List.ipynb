{
 "cells": [
  {
   "cell_type": "markdown",
   "id": "fd0226cf",
   "metadata": {},
   "source": [
    "# impuliments of Linked List Python"
   ]
  },
  {
   "cell_type": "code",
   "execution_count": 182,
   "id": "d5361fb9",
   "metadata": {},
   "outputs": [],
   "source": [
    "\n",
    "# create node\n",
    "class node:\n",
    "    def __init__(self,data):\n",
    "        self.data = data\n",
    "        self.ref = None\n",
    "        \n",
    "class LinkedList:\n",
    "    def __init__(self):\n",
    "        self.head = None\n",
    "        \n",
    "        \n",
    "#-------------------------------------------------------------------------------------------\n",
    "    #print all nodes\n",
    "    def printllist(self):\n",
    "        if self.head is None:\n",
    "            print('linked list is empty')\n",
    "            \n",
    "        n = self.head\n",
    "        while n is not None:\n",
    "            print(n.data,end = '-->')\n",
    "            n = n.ref\n",
    "#------------------------------------------------------------------------------------------------------------        \n",
    "    #add front node\n",
    "    def addfront(self,new):\n",
    "        newnode = node(new)\n",
    "        newnode.ref = self.head\n",
    "        self.head = newnode\n",
    "\n",
    "#-------------------------------------------------------------------------------------------------------------        \n",
    "    #add last\n",
    "    def addlast(self,new):\n",
    "        newnode = node(new)\n",
    "        if self.head is None:\n",
    "            self.head = newnode\n",
    "            return\n",
    "        else:\n",
    "            n = self.head\n",
    "            while n.ref is not None:\n",
    "                n = n.ref\n",
    "            n.ref = newnode\n",
    "#--------------------------------------------------------------------------------------------------------------     \n",
    "    #addfore \n",
    "    def addbefore(self,x,new):\n",
    "        newnode = node(new)\n",
    "        if self.head is None:\n",
    "            print('Linked List empty')\n",
    "            \n",
    "        else:\n",
    "            n = self.head\n",
    "            while n is not None:\n",
    "                if n.ref.data == x:\n",
    "                    break\n",
    "                n = n.ref\n",
    "                    \n",
    "            newnode.ref = n.ref\n",
    "            n.ref = newnode\n",
    " #--------------------------------------------------------------------------------------------------------------------           \n",
    "    #add x value  ofter\n",
    "    def addofter(self,x,new):\n",
    "        newnode = node(new)\n",
    "        if self.head is None:\n",
    "            print('Linked List is empty')\n",
    "            \n",
    "        else:\n",
    "            n = self.head\n",
    "            while n is not None:\n",
    "                if n.data == x:\n",
    "                    break\n",
    "                n = n.ref\n",
    "                \n",
    "            newnode.ref = n.ref\n",
    "            n.ref = newnode\n",
    "            \n",
    "            \n",
    "#---------------------------------------------------------------------------------------------------------------------            \n",
    "    #delete front node\n",
    "    def delete_front(self):\n",
    "        if self.head is None:\n",
    "            print('Linked List is empty')\n",
    "        else:\n",
    "            self.head = self.head.ref\n",
    "         \n",
    "        \n",
    "        #--------------------------------------------------------------------------------------------------------\n",
    "    #delete end node        \n",
    "    def delete_end(self):\n",
    "        if self.head is None:\n",
    "            print('linked List is empty')\n",
    "        else:\n",
    "            n = self.head\n",
    "            while n.ref.ref is not None:\n",
    "                n = n.ref\n",
    "            n.ref = None\n",
    "            \n",
    "#-------------------------------------------------------------------------------------------------            \n",
    "    #delete x value node\n",
    "    \n",
    "    def delete_value(self,x):\n",
    "        if self.head is None:\n",
    "            print('Linked List is empty')\n",
    "        else:\n",
    "            n = self.head\n",
    "            while n.ref is not None:\n",
    "                if n.ref.data == x:\n",
    "                    break\n",
    "                n = n.ref\n",
    "            \n",
    "            n.ref = n.ref.ref\n",
    "    \n",
    "#------------------------------------------------------------------------------------------------    \n",
    "    #same opratioN lINKED LIST\n",
    "    #find len of linked list\n",
    "    def find_size(self):\n",
    "        size =0\n",
    "        n = self.head\n",
    "        while n is not None:\n",
    "            size = size+1\n",
    "            n = n.ref\n",
    "        print(size)\n",
    "#---------------------------------------------------------------------------------------------------        \n",
    "   #find x value index possition     \n",
    "    def find_index(self,x):\n",
    "        index = 0\n",
    "        n = self.head\n",
    "        while n is not None:\n",
    "            index = index+1\n",
    "            if n.data == x:\n",
    "                break\n",
    "    \n",
    "            n = n.ref\n",
    "        print(index)"
   ]
  },
  {
   "cell_type": "code",
   "execution_count": 183,
   "id": "5a922516",
   "metadata": {},
   "outputs": [],
   "source": [
    "llist = LinkedList()"
   ]
  },
  {
   "cell_type": "code",
   "execution_count": 184,
   "id": "172e048d",
   "metadata": {},
   "outputs": [],
   "source": [
    "llist.addfront(10)\n",
    "llist.addfront(20)\n",
    "llist.addlast(30)\n",
    "llist.addlast(40)\n",
    "llist.addbefore(30,25)\n",
    "llist.addbefore(40,35)"
   ]
  },
  {
   "cell_type": "code",
   "execution_count": 185,
   "id": "2528dc8b",
   "metadata": {},
   "outputs": [
    {
     "name": "stdout",
     "output_type": "stream",
     "text": [
      "6\n"
     ]
    }
   ],
   "source": [
    "llist.find_size()"
   ]
  },
  {
   "cell_type": "code",
   "execution_count": 188,
   "id": "b559f440",
   "metadata": {},
   "outputs": [
    {
     "name": "stdout",
     "output_type": "stream",
     "text": [
      "4\n"
     ]
    }
   ],
   "source": [
    "llist.find_index(30)"
   ]
  },
  {
   "cell_type": "code",
   "execution_count": 189,
   "id": "0b142b5d",
   "metadata": {},
   "outputs": [
    {
     "name": "stdout",
     "output_type": "stream",
     "text": [
      "20-->10-->25-->30-->35-->40-->"
     ]
    }
   ],
   "source": [
    "llist.printllist()"
   ]
  },
  {
   "cell_type": "code",
   "execution_count": 190,
   "id": "b658a6f5",
   "metadata": {},
   "outputs": [],
   "source": [
    "llist.delete_front()"
   ]
  },
  {
   "cell_type": "code",
   "execution_count": 191,
   "id": "84ff84d1",
   "metadata": {},
   "outputs": [
    {
     "name": "stdout",
     "output_type": "stream",
     "text": [
      "10-->25-->30-->35-->40-->"
     ]
    }
   ],
   "source": [
    "llist.printllist()"
   ]
  },
  {
   "cell_type": "code",
   "execution_count": 192,
   "id": "9e35f1a5",
   "metadata": {},
   "outputs": [],
   "source": [
    "llist.delete_end()"
   ]
  },
  {
   "cell_type": "code",
   "execution_count": 193,
   "id": "fbb62900",
   "metadata": {},
   "outputs": [
    {
     "name": "stdout",
     "output_type": "stream",
     "text": [
      "10-->25-->30-->35-->"
     ]
    }
   ],
   "source": [
    "llist.printllist()"
   ]
  },
  {
   "cell_type": "code",
   "execution_count": 194,
   "id": "7d128a16",
   "metadata": {},
   "outputs": [],
   "source": [
    "llist.delete_value(30)"
   ]
  },
  {
   "cell_type": "code",
   "execution_count": 195,
   "id": "5862db19",
   "metadata": {},
   "outputs": [
    {
     "name": "stdout",
     "output_type": "stream",
     "text": [
      "10-->25-->35-->"
     ]
    }
   ],
   "source": [
    "llist.printllist()"
   ]
  },
  {
   "cell_type": "code",
   "execution_count": null,
   "id": "5f951ca3",
   "metadata": {},
   "outputs": [],
   "source": []
  }
 ],
 "metadata": {
  "kernelspec": {
   "display_name": "Python 3 (ipykernel)",
   "language": "python",
   "name": "python3"
  },
  "language_info": {
   "codemirror_mode": {
    "name": "ipython",
    "version": 3
   },
   "file_extension": ".py",
   "mimetype": "text/x-python",
   "name": "python",
   "nbconvert_exporter": "python",
   "pygments_lexer": "ipython3",
   "version": "3.8.8"
  }
 },
 "nbformat": 4,
 "nbformat_minor": 5
}
